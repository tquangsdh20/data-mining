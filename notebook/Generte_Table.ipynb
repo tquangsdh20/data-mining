{
 "cells": [
  {
   "cell_type": "markdown",
   "id": "a18e904a-141a-4c90-b125-d1696862c4d9",
   "metadata": {},
   "source": [
    "## Data Mining Project\n",
    "\n",
    "### Import essential library"
   ]
  },
  {
   "cell_type": "code",
   "execution_count": 4,
   "id": "d221e700-62c7-4515-a8c6-bc2ca7845c8c",
   "metadata": {},
   "outputs": [],
   "source": [
    "import os\n",
    "import json\n",
    "from DBMS import DB"
   ]
  },
  {
   "cell_type": "markdown",
   "id": "bd2c8c73-2c86-4986-99c1-d1fdbc895831",
   "metadata": {},
   "source": [
    "### Define the functions and constants for SQL Query with music database"
   ]
  },
  {
   "cell_type": "code",
   "execution_count": 5,
   "id": "2ebc5bf8-1453-4787-a5f0-e55f8a27b3cd",
   "metadata": {},
   "outputs": [],
   "source": [
    "# Connecting to music database without calling initial function again\n",
    "db = DB('./output/music.db')\n",
    "\n",
    "# Define the constants for QUERY statement\n",
    "GET_PLAYLIST_BY_USERNAME = \"\"\"SELECT playlist FROM user WHERE name = ? LIMIT 1;\"\"\"\n",
    "GET_PLAYLIST_BY_USER_ID = \"\"\"SELECT playlist FROM user WHERE id = ? LIMIT 1;\"\"\"\n",
    "GET_RYTHM_BY_SONG_ID = \"\"\"SELECT id,rythm FROM song WHERE id = ? ;\"\"\""
   ]
  },
  {
   "cell_type": "markdown",
   "id": "40af2e09-5a5f-456c-a0e8-9b314218cbe8",
   "metadata": {},
   "source": [
    "### Query and Get the playlist with UserID = 39"
   ]
  },
  {
   "cell_type": "code",
   "execution_count": 8,
   "id": "66092d94-fac7-4c3a-bae8-ce76ccba364c",
   "metadata": {},
   "outputs": [
    {
     "name": "stdin",
     "output_type": "stream",
     "text": [
      "Analysis by UserID or UserName?\n",
      "    1. Username\n",
      "    2. UserID\n",
      "Enter your choice:  1\n",
      "Please enter the user name for analysis:  joseph\n"
     ]
    },
    {
     "name": "stdout",
     "output_type": "stream",
     "text": [
      "['1911', '7073', '769', '4618', '9460', '3368', '701', '500', '10227', '276', '3198', '9', '44900', '985', '4663', '2821', '7861', '3861', '15388', '4229', '4080', '3084', '5009', '5546', '4678', '47291', '4467', '4960', '4279']\n"
     ]
    }
   ],
   "source": [
    "choice = input('''Analysis by UserID or UserName?\n",
    "    1. Username\n",
    "    2. UserID\n",
    "Enter your choice: ''')\n",
    "if choice == '1':\n",
    "    text = 'Please enter the user name for analysis: '\n",
    "    user = input(text)\n",
    "    db.cur.execute(GET_PLAYLIST_BY_USERNAME,(user,))\n",
    "    playlist = db.cur.fetchone()[0]\n",
    "elif choice == '2':\n",
    "    text = 'Please enter the UserID for analysis: '\n",
    "    user = input(text)\n",
    "    db.cur.execute(GET_PLAYLIST_BY_USER_ID,(user,))\n",
    "    playlist = db.cur.fetchone()[0]\n",
    "else:\n",
    "    print('Invalid choice!')\n",
    "    exit()\n",
    "songs = playlist.split()\n",
    "print(songs)"
   ]
  },
  {
   "cell_type": "markdown",
   "id": "f131ea88-b1bd-461b-b93d-ec0c58502cfc",
   "metadata": {},
   "source": [
    "### Query and Get the songs in playlist"
   ]
  },
  {
   "cell_type": "code",
   "execution_count": 13,
   "id": "84ce46cc-3115-4ae0-a1b1-6ab5f673718e",
   "metadata": {},
   "outputs": [
    {
     "name": "stdout",
     "output_type": "stream",
     "text": [
      "SongID: 1911\n",
      "Rythm: {\"bollero\": 24, \"ballad\": 10, \"blue\": 2, \"bossanova\": 2, \"rock\": 2, \"chachacha\": 1, \"fox\": 1, \"rhumba\": 1, \"boston\": 0, \"disco\": 0, \"pop\": 0, \"slow\": 0, \"slowrock\": 0, \"tango\": 0, \"valse\": 0}\n"
     ]
    }
   ],
   "source": [
    "rythms = []\n",
    "names = []\n",
    "for song in songs:\n",
    "    db.cur.execute(GET_RYTHM_BY_SONG_ID,(song,))\n",
    "    rythm = db.cur.fetchone()\n",
    "    if rythm is None: continue\n",
    "    rythms.append(rythm[1])\n",
    "    names.append(rythm[0])\n",
    "#Print one record for pre-view\n",
    "print('SongID:',names[0])\n",
    "print('Rythm:',rythms[0])"
   ]
  },
  {
   "cell_type": "markdown",
   "id": "fa147563-a2dd-415d-b47b-12787c24f18e",
   "metadata": {},
   "source": [
    "### Convert string to dictionary of rythm votes"
   ]
  },
  {
   "cell_type": "code",
   "execution_count": 15,
   "id": "c254df44-1df2-43d4-ae47-10a7e8461dec",
   "metadata": {},
   "outputs": [
    {
     "name": "stdout",
     "output_type": "stream",
     "text": [
      "bollero : 24\n",
      "ballad : 10\n",
      "blue : 2\n",
      "bossanova : 2\n",
      "rock : 2\n",
      "chachacha : 1\n",
      "fox : 1\n",
      "rhumba : 1\n",
      "boston : 0\n",
      "disco : 0\n",
      "pop : 0\n",
      "slow : 0\n",
      "slowrock : 0\n",
      "tango : 0\n",
      "valse : 0\n"
     ]
    }
   ],
   "source": [
    "votes = []\n",
    "for rythm in rythms:\n",
    "    vote = json.loads(rythm)\n",
    "    votes.append(vote)\n",
    "#Print one for pre-view\n",
    "for k,v in votes[0].items():\n",
    "    print(k,':',v)"
   ]
  },
  {
   "cell_type": "markdown",
   "id": "69cbd65a-6d1c-44a9-a3f8-1b4cde0c96b5",
   "metadata": {},
   "source": [
    "### Convert all votes to rows"
   ]
  },
  {
   "cell_type": "code",
   "execution_count": 18,
   "id": "5f9f07ba-3543-4407-8453-5e8c224beb97",
   "metadata": {},
   "outputs": [
    {
     "name": "stdout",
     "output_type": "stream",
     "text": [
      "song,bollero,ballad,blue,bossanova,rock,chachacha,fox,rhumba,boston,disco,pop,slow,slowrock,tango,valse,\n",
      "1911,24,10,2,2,2,1,1,1,0,0,0,0,0,0,0,\n"
     ]
    }
   ],
   "source": [
    "rows = []\n",
    "head = 'song' + ','\n",
    "# devguy97: update keys list for keeping correctly position values\n",
    "keys = []\n",
    "for key in votes[0].keys():\n",
    "    head += key + ','\n",
    "    keys.append(key)\n",
    "rows.append(head.strip())\n",
    "\n",
    "cnt = 0\n",
    "for vote in votes:\n",
    "    row = str(names[cnt]) + ','\n",
    "    cnt+=1\n",
    "    # devguy97: update value of dictionary follow the key position of header\n",
    "    for key in keys:\n",
    "        row += str(vote[key]) + ','\n",
    "    rows.append(row.strip())\n",
    "    \n",
    "#Print the head\n",
    "print(rows[0])\n",
    "print(rows[1])"
   ]
  },
  {
   "cell_type": "markdown",
   "id": "4f22b4f3-1338-4770-acdf-e8e0da7e6996",
   "metadata": {},
   "source": [
    "### Write all rows to file text"
   ]
  },
  {
   "cell_type": "code",
   "execution_count": 20,
   "id": "8d8145bc-f309-4cfa-b14e-6292cb24fb6f",
   "metadata": {},
   "outputs": [
    {
     "name": "stdout",
     "output_type": "stream",
     "text": [
      "song,bollero,ballad,blue,bossanova,rock,chachacha,fox,rhumba,boston,disco,pop,slow,slowrock,tango,valse,\n",
      "1911,24,10,2,2,2,1,1,1,0,0,0,0,0,0,0,\n",
      "7073,1,5,0,0,0,0,0,0,0,0,0,0,4,0,0,\n",
      "769,2,32,2,0,5,0,0,0,1,1,0,9,57,0,0,\n",
      "4618,1,25,8,1,3,2,2,3,0,0,4,74,11,6,14,\n",
      "9460,39,10,1,0,0,3,0,1,3,1,0,2,10,0,0,\n",
      "3368,73,23,3,0,0,2,1,4,3,7,1,13,2,1,0,\n",
      "701,383,37,7,2,1,17,8,45,4,24,4,126,35,10,11,\n",
      "500,1019,1174,348,53,49,116,64,49,927,167,47,3836,572,47,1914,\n",
      "10227,3,3,0,0,1,0,0,0,0,0,0,0,0,0,0,\n",
      "276,18,27,38,2,0,2,1,3,1,1,1,4,2,0,0,\n",
      "3198,3,30,3,0,2,0,0,0,0,3,1,11,3,0,4,\n",
      "9,2,37,0,1,0,0,15,1,2,0,3,15,2,3,1,\n",
      "44900,0,1,14,8,0,0,0,0,0,0,0,0,6,0,0,\n",
      "985,15,18,0,0,1,7,3,3,4,5,1,0,4,51,4,\n",
      "4663,8,2,0,0,0,4,2,0,0,2,2,5,1,16,0,\n",
      "2821,17,9,2,1,4,6,3,4,1,4,1,2,2,28,2,\n",
      "7861,6,142,5,3,1,3,4,22,1,1,4,233,57,1,11,\n",
      "3861,11,100,5,1,1,7,2,0,5,4,3,20,173,0,5,\n",
      "15388,0,100,48,247,0,7,0,0,2,16,0,3,0,0,6,\n",
      "4229,0,19,4,0,0,38,3,3,0,4,0,5,3,0,2,\n",
      "4080,11,414,52,3,4,3,5,4,16,16,9,224,62,4,26,\n",
      "3084,3,4,0,0,0,0,0,2,0,0,0,4,11,0,0,\n",
      "5009,20,0,5,0,0,1,1,1,0,1,1,0,4,0,1,\n",
      "5546,3,39,4,0,0,3,0,0,0,0,3,10,10,0,1,\n",
      "4678,18,10,0,0,0,2,0,0,1,0,0,0,2,0,0,\n",
      "47291,2,58,37,2,0,59,9,0,0,8,2,0,2,0,0,\n",
      "4467,2,65,12,0,1,0,3,0,0,14,8,19,36,2,2,\n",
      "4960,2,275,26,1,1,1,1,0,365,7,7,55,21,1,12,\n",
      "4279,2,66,46,0,2,5,2,0,1,89,1,7,12,1,6,\n"
     ]
    }
   ],
   "source": [
    "with open(user+'.txt','wb') as fp:\n",
    "    for row in rows:\n",
    "        fp.write(((row+'\\n').replace(',\\n','\\n')).encode())\n",
    "        print(row)"
   ]
  }
 ],
 "metadata": {
  "kernelspec": {
   "display_name": "Python 3 (ipykernel)",
   "language": "python",
   "name": "python3"
  },
  "language_info": {
   "codemirror_mode": {
    "name": "ipython",
    "version": 3
   },
   "file_extension": ".py",
   "mimetype": "text/x-python",
   "name": "python",
   "nbconvert_exporter": "python",
   "pygments_lexer": "ipython3",
   "version": "3.7.2"
  }
 },
 "nbformat": 4,
 "nbformat_minor": 5
}
