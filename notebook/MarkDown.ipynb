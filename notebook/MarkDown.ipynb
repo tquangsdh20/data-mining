{
 "cells": [
  {
   "cell_type": "markdown",
   "id": "a18e904a-141a-4c90-b125-d1696862c4d9",
   "metadata": {},
   "source": [
    "## Data Mining Project\n",
    "\n",
    "### Import essential library"
   ]
  },
  {
   "cell_type": "code",
   "execution_count": 1,
   "id": "d221e700-62c7-4515-a8c6-bc2ca7845c8c",
   "metadata": {},
   "outputs": [],
   "source": [
    "import os\n",
    "import json\n",
    "from DBMS import DB"
   ]
  },
  {
   "cell_type": "markdown",
   "id": "bd2c8c73-2c86-4986-99c1-d1fdbc895831",
   "metadata": {},
   "source": [
    "### Define the functions and constants for SQL Query with music database"
   ]
  },
  {
   "cell_type": "code",
   "execution_count": 14,
   "id": "2ebc5bf8-1453-4787-a5f0-e55f8a27b3cd",
   "metadata": {},
   "outputs": [],
   "source": [
    "# Connecting to music database without calling initial function again\n",
    "db = DB('music.db')\n",
    "\n",
    "# Define the constants for QUERY statement\n",
    "GET_PLAYLIST_BY_USERNAME = \"\"\"SELECT playlist FROM user WHERE name = ? LIMIT 1;\"\"\"\n",
    "GET_PLAYLIST_BY_USER_ID = \"\"\"SELECT playlist FROM user WHERE id = ? LIMIT 1;\"\"\"\n",
    "GET_RYTHM_BY_SONG_ID = \"\"\"SELECT id,rythm FROM song WHERE id = ? ;\"\"\""
   ]
  },
  {
   "cell_type": "markdown",
   "id": "40af2e09-5a5f-456c-a0e8-9b314218cbe8",
   "metadata": {},
   "source": [
    "### Query and Get the playlist with UserID = 39"
   ]
  },
  {
   "cell_type": "code",
   "execution_count": 10,
   "id": "66092d94-fac7-4c3a-bae8-ce76ccba364c",
   "metadata": {},
   "outputs": [
    {
     "name": "stdin",
     "output_type": "stream",
     "text": [
      "Analysis by UserID or UserName?\n",
      "    1. Username\n",
      "    2. UserID\n",
      "Enter your choice:  2\n",
      "Please enter the UserID for analysis:  98\n"
     ]
    },
    {
     "name": "stdout",
     "output_type": "stream",
     "text": [
      "['1911', '7073', '769', '4618', '9460', '3368', '701', '500', '10227', '276', '3198', '9', '44900', '985', '4663', '2821', '7861', '3861', '15388', '4229', '4080', '3084', '5009', '5546', '4678', '47291', '4467', '4960', '4279']\n"
     ]
    }
   ],
   "source": [
    "choice = input('''Analysis by UserID or UserName?\n",
    "    1. Username\n",
    "    2. UserID\n",
    "Enter your choice: ''')\n",
    "if choice == '1':\n",
    "    text = 'Please enter the user name for analysis: '\n",
    "    user = input(text)\n",
    "    db.cur.execute(GET_PLAYLIST_BY_USERNAME,(user,))\n",
    "    playlist = db.cur.fetchone()[0]\n",
    "elif choice == '2':\n",
    "    text = 'Please enter the UserID for analysis: '\n",
    "    user = input(text)\n",
    "    db.cur.execute(GET_PLAYLIST_BY_USER_ID,(user,))\n",
    "    playlist = db.cur.fetchone()[0]\n",
    "else:\n",
    "    print('Invalid choice!')\n",
    "    exit()\n",
    "songs = playlist.split()"
   ]
  },
  {
   "cell_type": "markdown",
   "id": "f131ea88-b1bd-461b-b93d-ec0c58502cfc",
   "metadata": {},
   "source": [
    "### Query and Get the songs in playlist"
   ]
  },
  {
   "cell_type": "code",
   "execution_count": 20,
   "id": "84ce46cc-3115-4ae0-a1b1-6ab5f673718e",
   "metadata": {},
   "outputs": [],
   "source": [
    "rythms = []\n",
    "names = []\n",
    "for song in songs:\n",
    "    db.cur.execute(GET_RYTHM_BY_SONG_ID,(song,))\n",
    "    rythm = db.cur.fetchone()\n",
    "    if rythm is None: continue\n",
    "    rythms.append(rythm[1])\n",
    "    names.append(rythm[0])"
   ]
  },
  {
   "cell_type": "markdown",
   "id": "fa147563-a2dd-415d-b47b-12787c24f18e",
   "metadata": {},
   "source": [
    "### Convert string to dictionary of rythm votes"
   ]
  },
  {
   "cell_type": "code",
   "execution_count": 16,
   "id": "c254df44-1df2-43d4-ae47-10a7e8461dec",
   "metadata": {},
   "outputs": [],
   "source": [
    "votes = []\n",
    "for rythm in rythms:\n",
    "    vote = json.loads(rythm)\n",
    "    votes.append(vote)"
   ]
  },
  {
   "cell_type": "markdown",
   "id": "69cbd65a-6d1c-44a9-a3f8-1b4cde0c96b5",
   "metadata": {},
   "source": [
    "### Convert all votes to rows"
   ]
  },
  {
   "cell_type": "code",
   "execution_count": 18,
   "id": "5f9f07ba-3543-4407-8453-5e8c224beb97",
   "metadata": {},
   "outputs": [],
   "source": [
    "rows = []\n",
    "head = 'song' + ','\n",
    "for key in votes[0].keys():\n",
    "    head += key + ','\n",
    "rows.append(head.strip())\n",
    "cnt = 0\n",
    "for vote in votes:\n",
    "    row = str(names[cnt]) + ','\n",
    "    cnt+=1\n",
    "    for v in vote.values():\n",
    "        row += str(v) + ','\n",
    "    rows.append(row.strip())"
   ]
  },
  {
   "cell_type": "markdown",
   "id": "4f22b4f3-1338-4770-acdf-e8e0da7e6996",
   "metadata": {},
   "source": [
    "### Write all rows to file text"
   ]
  },
  {
   "cell_type": "code",
   "execution_count": 19,
   "id": "8d8145bc-f309-4cfa-b14e-6292cb24fb6f",
   "metadata": {},
   "outputs": [],
   "source": [
    "with open(user+'.txt','wb') as fp:\n",
    "    for row in rows:\n",
    "        fp.write(((row+'\\n').replace(',\\n','\\n')).encode())"
   ]
  }
 ],
 "metadata": {
  "kernelspec": {
   "display_name": "Python 3 (ipykernel)",
   "language": "python",
   "name": "python3"
  },
  "language_info": {
   "codemirror_mode": {
    "name": "ipython",
    "version": 3
   },
   "file_extension": ".py",
   "mimetype": "text/x-python",
   "name": "python",
   "nbconvert_exporter": "python",
   "pygments_lexer": "ipython3",
   "version": "3.9.6"
  }
 },
 "nbformat": 4,
 "nbformat_minor": 5
}
