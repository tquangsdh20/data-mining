{
 "cells": [
  {
   "cell_type": "markdown",
   "id": "278ae1d8-8989-4405-b977-3823fcee38c8",
   "metadata": {
    "jp-MarkdownHeadingCollapsed": true,
    "tags": []
   },
   "source": [
    "<p align=\"center\">\n",
    "<img src=\"https://raw.githubusercontent.com/tquangsdh20/data-mining/main/.github/logo.svg\">\n",
    "</p>\n",
    "\n",
    "<center> \n",
    "    <img src=\"https://img.shields.io/github/license/tquangsdh20/data-mining\"> <img src=\"https://img.shields.io/github/languages/count/tquangsdh20/data-mining\"> <img src=\"https://img.shields.io/badge/R-v4.0.5-orange\"> <img src = \"https://img.shields.io/pypi/pyversions/memrise\"> </center>\n",
    "\n",
    "### Group 5\n",
    "- **Le Thai** - *2170083*\n",
    "- **Tran Quang** - *2070426*\n",
    "- **Le Thai Duy** - *2070406*\n",
    "- **Le Nhu Chien** - *1970289*\n",
    "- **Phan Van Trung** - *2170440*\n",
    "\n",
    "## 1. Data Collection\n",
    "\n",
    "### 1.1. Discription\n",
    "\n",
    "<div align=\"justify\">\n",
    "All data is collected from <a href=\"https://hopamchuan.com\">HopAmChuan</a> store in the <i>Data Warehouse</i> with the purpose is based on the playlist of the user to analyze and recommend similar songs that the user might like them. The Data Warehouse has the <i>Entity Relationship Diagram</i> as the following.  </div>\n",
    "\n",
    "### Entity Relationship Diagram\n",
    "\n",
    "<center>\n",
    "<img src=\"https://raw.githubusercontent.com/tquangsdh20/data-mining/c5da9bee3778f6634c53d5cb10ca9599e229df05/.github/ERD.svg\" height=\"600\" width=\"600\">\n",
    "</center>\n",
    "\n",
    "\n",
    "\n",
    "### Pivot Table\n",
    "\n",
    "<table class=\"dataframe\">\n",
    "<caption>Aggregates the individual items for get the specific table relative to the specific user</caption>\n",
    "<thead>\n",
    "\t<tr><th>SongID</th><th scope=col>bollero</th><th scope=col>ballad</th><th scope=col>blue</th><th scope=col>bossanova</th><th scope=col>rock</th><th scope=col>chachacha</th><th scope=col>fox</th><th scope=col>rhumba</th><th scope=col>boston</th><th scope=col>disco</th><th scope=col>pop</th><th scope=col>slow</th><th scope=col>slowrock</th><th scope=col>tango</th><th scope=col>valse</th></tr>\n",
    "</thead>\n",
    "<tbody>\n",
    "\t<tr><th scope=row>1911</th><td>24</td><td>10</td><td>2</td><td>2</td><td>2</td><td>1</td><td>1</td><td>1</td><td>0</td><td>0</td><td>0</td><td> 0</td><td> 0</td><td>0</td><td> 0</td></tr>\n",
    "\t<tr><th scope=row>7073</th><td> 1</td><td> 5</td><td>0</td><td>0</td><td>0</td><td>0</td><td>0</td><td>0</td><td>0</td><td>0</td><td>0</td><td> 0</td><td> 4</td><td>0</td><td> 0</td></tr>\n",
    "\t<tr><th scope=row>769</th><td> 2</td><td>32</td><td>2</td><td>0</td><td>5</td><td>0</td><td>0</td><td>0</td><td>1</td><td>1</td><td>0</td><td> 9</td><td>57</td><td>0</td><td> 0</td></tr>\n",
    "\t<tr><th scope=row>4618</th><td> 1</td><td>25</td><td>8</td><td>1</td><td>3</td><td>2</td><td>2</td><td>3</td><td>0</td><td>0</td><td>4</td><td>74</td><td>11</td><td>6</td><td>14</td></tr>\n",
    "\t<tr><th scope=row>9460</th><td>39</td><td>10</td><td>1</td><td>0</td><td>0</td><td>3</td><td>0</td><td>1</td><td>3</td><td>1</td><td>0</td><td> 2</td><td>10</td><td>0</td><td> 0</td></tr>\n",
    "\t<tr><th scope=row>3368</th><td>73</td><td>23</td><td>3</td><td>0</td><td>0</td><td>2</td><td>1</td><td>4</td><td>3</td><td>7</td><td>1</td><td>13</td><td> 2</td><td>1</td><td> 0</td></tr>\n",
    "</tbody>\n",
    "</table>"
   ]
  },
  {
   "cell_type": "code",
   "execution_count": 10,
   "id": "2ec9cb29-0f85-4bfc-9a6f-fe9a54dec99a",
   "metadata": {},
   "outputs": [],
   "source": [
    "require(FactoMineR)\n",
    "file = 'https://hcmuteduvn-my.sharepoint.com/:t:/g/personal/tquang_sdh20_hcmut_edu_vn/EammePVOfsFGmUFLgxms85sBSGcCGzZVHMQ5k-YMKAmiiQ?download=1'\n",
    "raw_dat = read.csv(file,header=T,row.names=1)"
   ]
  },
  {
   "cell_type": "code",
   "execution_count": 11,
   "id": "64c11554-bf72-4677-9d8a-f8acbaa44ff7",
   "metadata": {},
   "outputs": [
    {
     "data": {
      "text/html": [
       "<table class=\"dataframe\">\n",
       "<caption>A matrix: 6 × 15 of type dbl</caption>\n",
       "<thead>\n",
       "\t<tr><th></th><th scope=col>bollero</th><th scope=col>ballad</th><th scope=col>blue</th><th scope=col>bossanova</th><th scope=col>rock</th><th scope=col>chachacha</th><th scope=col>fox</th><th scope=col>rhumba</th><th scope=col>boston</th><th scope=col>disco</th><th scope=col>pop</th><th scope=col>slow</th><th scope=col>slowrock</th><th scope=col>tango</th><th scope=col>valse</th></tr>\n",
       "</thead>\n",
       "<tbody>\n",
       "\t<tr><th scope=row>1911</th><td>-0.17288210</td><td>-0.3732470</td><td>-0.3279040</td><td>-0.1999923</td><td>-0.07649009</td><td>-0.3742488</td><td>-0.2920742</td><td>-0.32681901</td><td>-0.2528001</td><td>-0.3795639</td><td>-0.40748994</td><td>-0.2273404</td><td>-0.3511437</td><td>-0.440786592</td><td>-0.1965421</td></tr>\n",
       "\t<tr><th scope=row>7073</th><td>-0.28912439</td><td>-0.3953823</td><td>-0.3588787</td><td>-0.2431133</td><td>-0.29831133</td><td>-0.4159919</td><td>-0.3759370</td><td>-0.40782543</td><td>-0.2528001</td><td>-0.3795639</td><td>-0.40748994</td><td>-0.2273404</td><td>-0.3142482</td><td>-0.440786592</td><td>-0.1965421</td></tr>\n",
       "\t<tr><th scope=row>769</th><td>-0.28407038</td><td>-0.2758517</td><td>-0.3279040</td><td>-0.2431133</td><td> 0.25624179</td><td>-0.4159919</td><td>-0.3759370</td><td>-0.40782543</td><td>-0.2473168</td><td>-0.3502110</td><td>-0.40748994</td><td>-0.2146537</td><td> 0.1746177</td><td>-0.440786592</td><td>-0.1965421</td></tr>\n",
       "\t<tr><th scope=row>4618</th><td>-0.28912439</td><td>-0.3068411</td><td>-0.2349801</td><td>-0.2215528</td><td> 0.03442054</td><td>-0.3325057</td><td>-0.2082113</td><td>-0.16480617</td><td>-0.2528001</td><td>-0.3795639</td><td> 0.05143077</td><td>-0.1230273</td><td>-0.2496810</td><td> 0.007733098</td><td>-0.1570781</td></tr>\n",
       "\t<tr><th scope=row>9460</th><td>-0.09707190</td><td>-0.3732470</td><td>-0.3433913</td><td>-0.2431133</td><td>-0.29831133</td><td>-0.2907625</td><td>-0.3759370</td><td>-0.32681901</td><td>-0.2363501</td><td>-0.3502110</td><td>-0.40748994</td><td>-0.2245211</td><td>-0.2589049</td><td>-0.440786592</td><td>-0.1965421</td></tr>\n",
       "\t<tr><th scope=row>3368</th><td> 0.07476454</td><td>-0.3156952</td><td>-0.3124167</td><td>-0.2431133</td><td>-0.29831133</td><td>-0.3325057</td><td>-0.2920742</td><td>-0.08379975</td><td>-0.2363501</td><td>-0.1740933</td><td>-0.29275977</td><td>-0.2090151</td><td>-0.3326960</td><td>-0.366033310</td><td>-0.1965421</td></tr>\n",
       "</tbody>\n",
       "</table>\n"
      ],
      "text/latex": [
       "A matrix: 6 × 15 of type dbl\n",
       "\\begin{tabular}{r|lllllllllllllll}\n",
       "  & bollero & ballad & blue & bossanova & rock & chachacha & fox & rhumba & boston & disco & pop & slow & slowrock & tango & valse\\\\\n",
       "\\hline\n",
       "\t1911 & -0.17288210 & -0.3732470 & -0.3279040 & -0.1999923 & -0.07649009 & -0.3742488 & -0.2920742 & -0.32681901 & -0.2528001 & -0.3795639 & -0.40748994 & -0.2273404 & -0.3511437 & -0.440786592 & -0.1965421\\\\\n",
       "\t7073 & -0.28912439 & -0.3953823 & -0.3588787 & -0.2431133 & -0.29831133 & -0.4159919 & -0.3759370 & -0.40782543 & -0.2528001 & -0.3795639 & -0.40748994 & -0.2273404 & -0.3142482 & -0.440786592 & -0.1965421\\\\\n",
       "\t769 & -0.28407038 & -0.2758517 & -0.3279040 & -0.2431133 &  0.25624179 & -0.4159919 & -0.3759370 & -0.40782543 & -0.2473168 & -0.3502110 & -0.40748994 & -0.2146537 &  0.1746177 & -0.440786592 & -0.1965421\\\\\n",
       "\t4618 & -0.28912439 & -0.3068411 & -0.2349801 & -0.2215528 &  0.03442054 & -0.3325057 & -0.2082113 & -0.16480617 & -0.2528001 & -0.3795639 &  0.05143077 & -0.1230273 & -0.2496810 &  0.007733098 & -0.1570781\\\\\n",
       "\t9460 & -0.09707190 & -0.3732470 & -0.3433913 & -0.2431133 & -0.29831133 & -0.2907625 & -0.3759370 & -0.32681901 & -0.2363501 & -0.3502110 & -0.40748994 & -0.2245211 & -0.2589049 & -0.440786592 & -0.1965421\\\\\n",
       "\t3368 &  0.07476454 & -0.3156952 & -0.3124167 & -0.2431133 & -0.29831133 & -0.3325057 & -0.2920742 & -0.08379975 & -0.2363501 & -0.1740933 & -0.29275977 & -0.2090151 & -0.3326960 & -0.366033310 & -0.1965421\\\\\n",
       "\\end{tabular}\n"
      ],
      "text/markdown": [
       "\n",
       "A matrix: 6 × 15 of type dbl\n",
       "\n",
       "| <!--/--> | bollero | ballad | blue | bossanova | rock | chachacha | fox | rhumba | boston | disco | pop | slow | slowrock | tango | valse |\n",
       "|---|---|---|---|---|---|---|---|---|---|---|---|---|---|---|---|\n",
       "| 1911 | -0.17288210 | -0.3732470 | -0.3279040 | -0.1999923 | -0.07649009 | -0.3742488 | -0.2920742 | -0.32681901 | -0.2528001 | -0.3795639 | -0.40748994 | -0.2273404 | -0.3511437 | -0.440786592 | -0.1965421 |\n",
       "| 7073 | -0.28912439 | -0.3953823 | -0.3588787 | -0.2431133 | -0.29831133 | -0.4159919 | -0.3759370 | -0.40782543 | -0.2528001 | -0.3795639 | -0.40748994 | -0.2273404 | -0.3142482 | -0.440786592 | -0.1965421 |\n",
       "| 769 | -0.28407038 | -0.2758517 | -0.3279040 | -0.2431133 |  0.25624179 | -0.4159919 | -0.3759370 | -0.40782543 | -0.2473168 | -0.3502110 | -0.40748994 | -0.2146537 |  0.1746177 | -0.440786592 | -0.1965421 |\n",
       "| 4618 | -0.28912439 | -0.3068411 | -0.2349801 | -0.2215528 |  0.03442054 | -0.3325057 | -0.2082113 | -0.16480617 | -0.2528001 | -0.3795639 |  0.05143077 | -0.1230273 | -0.2496810 |  0.007733098 | -0.1570781 |\n",
       "| 9460 | -0.09707190 | -0.3732470 | -0.3433913 | -0.2431133 | -0.29831133 | -0.2907625 | -0.3759370 | -0.32681901 | -0.2363501 | -0.3502110 | -0.40748994 | -0.2245211 | -0.2589049 | -0.440786592 | -0.1965421 |\n",
       "| 3368 |  0.07476454 | -0.3156952 | -0.3124167 | -0.2431133 | -0.29831133 | -0.3325057 | -0.2920742 | -0.08379975 | -0.2363501 | -0.1740933 | -0.29275977 | -0.2090151 | -0.3326960 | -0.366033310 | -0.1965421 |\n",
       "\n"
      ],
      "text/plain": [
       "     bollero     ballad     blue       bossanova  rock        chachacha \n",
       "1911 -0.17288210 -0.3732470 -0.3279040 -0.1999923 -0.07649009 -0.3742488\n",
       "7073 -0.28912439 -0.3953823 -0.3588787 -0.2431133 -0.29831133 -0.4159919\n",
       "769  -0.28407038 -0.2758517 -0.3279040 -0.2431133  0.25624179 -0.4159919\n",
       "4618 -0.28912439 -0.3068411 -0.2349801 -0.2215528  0.03442054 -0.3325057\n",
       "9460 -0.09707190 -0.3732470 -0.3433913 -0.2431133 -0.29831133 -0.2907625\n",
       "3368  0.07476454 -0.3156952 -0.3124167 -0.2431133 -0.29831133 -0.3325057\n",
       "     fox        rhumba      boston     disco      pop         slow      \n",
       "1911 -0.2920742 -0.32681901 -0.2528001 -0.3795639 -0.40748994 -0.2273404\n",
       "7073 -0.3759370 -0.40782543 -0.2528001 -0.3795639 -0.40748994 -0.2273404\n",
       "769  -0.3759370 -0.40782543 -0.2473168 -0.3502110 -0.40748994 -0.2146537\n",
       "4618 -0.2082113 -0.16480617 -0.2528001 -0.3795639  0.05143077 -0.1230273\n",
       "9460 -0.3759370 -0.32681901 -0.2363501 -0.3502110 -0.40748994 -0.2245211\n",
       "3368 -0.2920742 -0.08379975 -0.2363501 -0.1740933 -0.29275977 -0.2090151\n",
       "     slowrock   tango        valse     \n",
       "1911 -0.3511437 -0.440786592 -0.1965421\n",
       "7073 -0.3142482 -0.440786592 -0.1965421\n",
       "769   0.1746177 -0.440786592 -0.1965421\n",
       "4618 -0.2496810  0.007733098 -0.1570781\n",
       "9460 -0.2589049 -0.440786592 -0.1965421\n",
       "3368 -0.3326960 -0.366033310 -0.1965421"
      ]
     },
     "metadata": {},
     "output_type": "display_data"
    }
   ],
   "source": [
    "dat = scale(dat)\n",
    "head(dat)"
   ]
  },
  {
   "cell_type": "code",
   "execution_count": 9,
   "id": "a6cf2925-b945-469a-9791-e440f92e328c",
   "metadata": {},
   "outputs": [
    {
     "name": "stderr",
     "output_type": "stream",
     "text": [
      "Loading required package: FactoMineR\n",
      "\n",
      "Warning message in library(package, lib.loc = lib.loc, character.only = TRUE, logical.return = TRUE, :\n",
      "\"there is no package called 'FactoMineR'\"\n"
     ]
    }
   ],
   "source": [
    "options(repr.plot.width=15, repr.plot.height=7)\n",
    "res.dat<-CA(music_dat)\n",
    "res.dat$eig"
   ]
  }
 ],
 "metadata": {
  "kernelspec": {
   "display_name": "R",
   "language": "R",
   "name": "ir"
  },
  "language_info": {
   "codemirror_mode": "r",
   "file_extension": ".r",
   "mimetype": "text/x-r-source",
   "name": "R",
   "pygments_lexer": "r",
   "version": "4.0.4"
  }
 },
 "nbformat": 4,
 "nbformat_minor": 5
}
