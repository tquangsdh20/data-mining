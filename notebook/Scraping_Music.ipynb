{
 "cells": [
  {
   "cell_type": "markdown",
   "id": "c12141fd-5296-4fc5-b3fa-15ca1769a83f",
   "metadata": {},
   "source": [
    "## Scraping Music Part"
   ]
  },
  {
   "cell_type": "markdown",
   "id": "8eead25f-023b-49f9-a95f-a766b09f40cf",
   "metadata": {},
   "source": [
    "### Define the functions for pre-scraping and generate log"
   ]
  },
  {
   "cell_type": "code",
   "execution_count": 3,
   "id": "0b7f7833-f084-4d3f-9ccd-6c205fd9098d",
   "metadata": {},
   "outputs": [],
   "source": [
    "import os\n",
    "import os.path\n",
    "from DBMS import DB\n",
    "from HopAmChuan import get_song_by_id\n",
    "from time import sleep\n",
    "\n",
    "def list2str(lst:list):\n",
    "    retstr = ''\n",
    "    for item in lst:\n",
    "        retstr+=str(item[0])+' '\n",
    "    return retstr\n",
    "\n",
    "def trace_log(filename:str):\n",
    "    if os.path.exists(filename):\n",
    "        __fh = open(filename)\n",
    "        logs = __fh.read().split()\n",
    "        __fh.close()\n",
    "        os.remove(filename)\n",
    "    else: logs=[]\n",
    "    return logs\n",
    "\n",
    "def generate_log(filename:str,log:str):\n",
    "    if os.path.exists(filename):\n",
    "        os.remove(filename)\n",
    "    fp = open(filename,'w')\n",
    "    fp.write(log)\n",
    "    fp.close()\n",
    "\n",
    "def generate_report(db:DB):\n",
    "    __users = list2str(db.get_users())\n",
    "    __songs = list2str(db.get_songs())\n",
    "    __singers = list2str(db.get_singers())\n",
    "    generate_log('./logs/users.log',__users)\n",
    "    generate_log('./logs/songs.log',__songs)\n",
    "    generate_log('./logs/singers.log',__singers)"
   ]
  },
  {
   "cell_type": "markdown",
   "id": "8ffcad36-1aaa-4f7e-9e0b-d1654158a20d",
   "metadata": {},
   "source": [
    "### Scraping Song"
   ]
  },
  {
   "cell_type": "code",
   "execution_count": 11,
   "id": "acac8f72-ab8f-4423-9be9-74049ba35edd",
   "metadata": {},
   "outputs": [],
   "source": [
    "db = DB('music.db')\n",
    "generate_report(db)\n",
    "USER_LOGS = trace_log('./logs/users.log')\n",
    "SONG_LOGS = trace_log('./logs/songs.log')\n",
    "SINGER_LOGS = trace_log('./logs/singers.log')\n",
    "\n",
    "def insert_songs(db:DB,filename):\n",
    "    fh = open(filename)\n",
    "    SongList = fh.read().split()\n",
    "    #db.init_database()  --> Important to remove this line\n",
    "    log = []\n",
    "    rcd_cnt = 0\n",
    "    for SongID in SongList:\n",
    "        if (SongID in SONG_LOGS) or (SongID in log) : continue\n",
    "        try:\n",
    "            record = get_song_by_id(SongID)\n",
    "            log.append(SongID)\n",
    "            sleep(0.5)\n",
    "        except:\n",
    "            pass\n",
    "        else:\n",
    "            rcd_cnt+=1\n",
    "            db.insert_song(record)\n",
    "            if rcd_cnt%50==0: db.commit()\n",
    "    generate_report(db)\n",
    "\n",
    "#Insert new user and insert all song in file --> User's playlist + Insert all songs into DBMS\n",
    "def insert_new_user(db:DB,username:str,file:str):\n",
    "    if username in USER_LOGS: \n",
    "        print('The username exists')\n",
    "        return False\n",
    "    if os.path.exists(file):\n",
    "        fh = open(file)\n",
    "        SongList = fh.read().split()\n",
    "        playlist = ''\n",
    "        for song in SongList:\n",
    "            playlist += str(song) + ' '\n",
    "    else:\n",
    "        print(f'File \"{file}\" doesn\\'t exist')\n",
    "        return False\n",
    "    db.insert_user((username,playlist))\n",
    "    insert_songs(file)\n",
    "    return True"
   ]
  },
  {
   "cell_type": "markdown",
   "id": "bbd937ae-f4c7-4ec6-8292-02c907809c97",
   "metadata": {},
   "source": [
    "### Insert songs with StartID to EndID"
   ]
  },
  {
   "cell_type": "code",
   "execution_count": null,
   "id": "aff72061-f0f1-4852-9d7d-ea6cf66cd3ee",
   "metadata": {},
   "outputs": [],
   "source": [
    "def insert_songs_by_range(db:DB,startID:int,endID:int):\n",
    "    SongList = range(startID,endID+1)\n",
    "    #db.init_database()  --> Important to remove this line\n",
    "    log = []\n",
    "    rcd_cnt = 0\n",
    "    for SongID in SongList:\n",
    "        if (str(SongID) in SONG_LOGS) or (str(SongID) in log) : continue\n",
    "        try:\n",
    "            record = get_song_by_id(SongID)\n",
    "            log.append(SongID)\n",
    "            sleep(0.5)\n",
    "        except:\n",
    "            pass\n",
    "        else:\n",
    "            rcd_cnt+=1\n",
    "            db.insert_song(record)\n",
    "            if rcd_cnt%50==0: db.commit()\n",
    "    db.commit()"
   ]
  },
  {
   "cell_type": "code",
   "execution_count": null,
   "id": "b151f7cb-443e-4ac4-85b5-9e6aecdb7552",
   "metadata": {},
   "outputs": [],
   "source": [
    "insert_songs_by_range(db,1,5000)"
   ]
  },
  {
   "cell_type": "code",
   "execution_count": 4,
   "id": "f921f9e0-4891-4a4f-83da-27e32663c501",
   "metadata": {},
   "outputs": [],
   "source": [
    "db = DB('music.db')\n",
    "db.close()"
   ]
  },
  {
   "cell_type": "code",
   "execution_count": null,
   "id": "d5cd5a35-599d-4377-93b6-2f80bd28f880",
   "metadata": {},
   "outputs": [],
   "source": [
    "quit()"
   ]
  },
  {
   "cell_type": "code",
   "execution_count": null,
   "id": "05098b41-d9fd-4287-8e5e-8c48766e7845",
   "metadata": {},
   "outputs": [],
   "source": []
  }
 ],
 "metadata": {
  "kernelspec": {
   "display_name": "Python 3 (ipykernel)",
   "language": "python",
   "name": "python3"
  },
  "language_info": {
   "codemirror_mode": {
    "name": "ipython",
    "version": 3
   },
   "file_extension": ".py",
   "mimetype": "text/x-python",
   "name": "python",
   "nbconvert_exporter": "python",
   "pygments_lexer": "ipython3",
   "version": "3.9.6"
  }
 },
 "nbformat": 4,
 "nbformat_minor": 5
}
