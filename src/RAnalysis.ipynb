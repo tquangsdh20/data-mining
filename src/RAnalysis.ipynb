{
 "cells": [
  {
   "cell_type": "markdown",
   "id": "278ae1d8-8989-4405-b977-3823fcee38c8",
   "metadata": {},
   "source": [
    "<center><h1>Analysis Music & Recommandation</h1></center>\n",
    "\n",
    "## 1. Data Collection\n",
    "\n",
    "### 1.1. Discription\n",
    "\n",
    "All data is collected from the website <i>\"[hopamchuan.com](https://hopamchuan.com)\"</i> for studying project.  \n",
    "The data collection consist of 4 tables:\n",
    "- <i>**user table**</i> : Store the special information of the individuals as **userID** and **userName**\n",
    "- _**song table**_ : Store all the songs in system\n",
    "- _**singer table**_ : Store singers' information\n"
   ]
  },
  {
   "cell_type": "code",
   "execution_count": 4,
   "id": "2ec9cb29-0f85-4bfc-9a6f-fe9a54dec99a",
   "metadata": {},
   "outputs": [
    {
     "data": {
      "text/html": [
       "<table class=\"dataframe\">\n",
       "<caption>A data.frame: 6 × 15</caption>\n",
       "<thead>\n",
       "\t<tr><th></th><th scope=col>bollero</th><th scope=col>ballad</th><th scope=col>blue</th><th scope=col>bossanova</th><th scope=col>rock</th><th scope=col>chachacha</th><th scope=col>fox</th><th scope=col>rhumba</th><th scope=col>boston</th><th scope=col>disco</th><th scope=col>pop</th><th scope=col>slow</th><th scope=col>slowrock</th><th scope=col>tango</th><th scope=col>valse</th></tr>\n",
       "\t<tr><th></th><th scope=col>&lt;int&gt;</th><th scope=col>&lt;int&gt;</th><th scope=col>&lt;int&gt;</th><th scope=col>&lt;int&gt;</th><th scope=col>&lt;int&gt;</th><th scope=col>&lt;int&gt;</th><th scope=col>&lt;int&gt;</th><th scope=col>&lt;int&gt;</th><th scope=col>&lt;int&gt;</th><th scope=col>&lt;int&gt;</th><th scope=col>&lt;int&gt;</th><th scope=col>&lt;int&gt;</th><th scope=col>&lt;int&gt;</th><th scope=col>&lt;int&gt;</th><th scope=col>&lt;int&gt;</th></tr>\n",
       "</thead>\n",
       "<tbody>\n",
       "\t<tr><th scope=row>1911</th><td>24</td><td>10</td><td>2</td><td>2</td><td>2</td><td>1</td><td>1</td><td>1</td><td>0</td><td>0</td><td>0</td><td> 0</td><td> 0</td><td>0</td><td> 0</td></tr>\n",
       "\t<tr><th scope=row>7073</th><td> 1</td><td> 5</td><td>0</td><td>0</td><td>0</td><td>0</td><td>0</td><td>0</td><td>0</td><td>0</td><td>0</td><td> 0</td><td> 4</td><td>0</td><td> 0</td></tr>\n",
       "\t<tr><th scope=row>769</th><td> 2</td><td>32</td><td>2</td><td>0</td><td>5</td><td>0</td><td>0</td><td>0</td><td>1</td><td>1</td><td>0</td><td> 9</td><td>57</td><td>0</td><td> 0</td></tr>\n",
       "\t<tr><th scope=row>4618</th><td> 1</td><td>25</td><td>8</td><td>1</td><td>3</td><td>2</td><td>2</td><td>3</td><td>0</td><td>0</td><td>4</td><td>74</td><td>11</td><td>6</td><td>14</td></tr>\n",
       "\t<tr><th scope=row>9460</th><td>39</td><td>10</td><td>1</td><td>0</td><td>0</td><td>3</td><td>0</td><td>1</td><td>3</td><td>1</td><td>0</td><td> 2</td><td>10</td><td>0</td><td> 0</td></tr>\n",
       "\t<tr><th scope=row>3368</th><td>73</td><td>23</td><td>3</td><td>0</td><td>0</td><td>2</td><td>1</td><td>4</td><td>3</td><td>7</td><td>1</td><td>13</td><td> 2</td><td>1</td><td> 0</td></tr>\n",
       "</tbody>\n",
       "</table>\n"
      ],
      "text/latex": [
       "A data.frame: 6 × 15\n",
       "\\begin{tabular}{r|lllllllllllllll}\n",
       "  & bollero & ballad & blue & bossanova & rock & chachacha & fox & rhumba & boston & disco & pop & slow & slowrock & tango & valse\\\\\n",
       "  & <int> & <int> & <int> & <int> & <int> & <int> & <int> & <int> & <int> & <int> & <int> & <int> & <int> & <int> & <int>\\\\\n",
       "\\hline\n",
       "\t1911 & 24 & 10 & 2 & 2 & 2 & 1 & 1 & 1 & 0 & 0 & 0 &  0 &  0 & 0 &  0\\\\\n",
       "\t7073 &  1 &  5 & 0 & 0 & 0 & 0 & 0 & 0 & 0 & 0 & 0 &  0 &  4 & 0 &  0\\\\\n",
       "\t769 &  2 & 32 & 2 & 0 & 5 & 0 & 0 & 0 & 1 & 1 & 0 &  9 & 57 & 0 &  0\\\\\n",
       "\t4618 &  1 & 25 & 8 & 1 & 3 & 2 & 2 & 3 & 0 & 0 & 4 & 74 & 11 & 6 & 14\\\\\n",
       "\t9460 & 39 & 10 & 1 & 0 & 0 & 3 & 0 & 1 & 3 & 1 & 0 &  2 & 10 & 0 &  0\\\\\n",
       "\t3368 & 73 & 23 & 3 & 0 & 0 & 2 & 1 & 4 & 3 & 7 & 1 & 13 &  2 & 1 &  0\\\\\n",
       "\\end{tabular}\n"
      ],
      "text/markdown": [
       "\n",
       "A data.frame: 6 × 15\n",
       "\n",
       "| <!--/--> | bollero &lt;int&gt; | ballad &lt;int&gt; | blue &lt;int&gt; | bossanova &lt;int&gt; | rock &lt;int&gt; | chachacha &lt;int&gt; | fox &lt;int&gt; | rhumba &lt;int&gt; | boston &lt;int&gt; | disco &lt;int&gt; | pop &lt;int&gt; | slow &lt;int&gt; | slowrock &lt;int&gt; | tango &lt;int&gt; | valse &lt;int&gt; |\n",
       "|---|---|---|---|---|---|---|---|---|---|---|---|---|---|---|---|\n",
       "| 1911 | 24 | 10 | 2 | 2 | 2 | 1 | 1 | 1 | 0 | 0 | 0 |  0 |  0 | 0 |  0 |\n",
       "| 7073 |  1 |  5 | 0 | 0 | 0 | 0 | 0 | 0 | 0 | 0 | 0 |  0 |  4 | 0 |  0 |\n",
       "| 769 |  2 | 32 | 2 | 0 | 5 | 0 | 0 | 0 | 1 | 1 | 0 |  9 | 57 | 0 |  0 |\n",
       "| 4618 |  1 | 25 | 8 | 1 | 3 | 2 | 2 | 3 | 0 | 0 | 4 | 74 | 11 | 6 | 14 |\n",
       "| 9460 | 39 | 10 | 1 | 0 | 0 | 3 | 0 | 1 | 3 | 1 | 0 |  2 | 10 | 0 |  0 |\n",
       "| 3368 | 73 | 23 | 3 | 0 | 0 | 2 | 1 | 4 | 3 | 7 | 1 | 13 |  2 | 1 |  0 |\n",
       "\n"
      ],
      "text/plain": [
       "     bollero ballad blue bossanova rock chachacha fox rhumba boston disco pop\n",
       "1911 24      10     2    2         2    1         1   1      0      0     0  \n",
       "7073  1       5     0    0         0    0         0   0      0      0     0  \n",
       "769   2      32     2    0         5    0         0   0      1      1     0  \n",
       "4618  1      25     8    1         3    2         2   3      0      0     4  \n",
       "9460 39      10     1    0         0    3         0   1      3      1     0  \n",
       "3368 73      23     3    0         0    2         1   4      3      7     1  \n",
       "     slow slowrock tango valse\n",
       "1911  0    0       0      0   \n",
       "7073  0    4       0      0   \n",
       "769   9   57       0      0   \n",
       "4618 74   11       6     14   \n",
       "9460  2   10       0      0   \n",
       "3368 13    2       1      0   "
      ]
     },
     "metadata": {},
     "output_type": "display_data"
    }
   ],
   "source": [
    "file = './output/joseph.txt'\n",
    "dat = read.csv(file,header=T,row.names=1)\n",
    "head(dat)"
   ]
  },
  {
   "cell_type": "code",
   "execution_count": null,
   "id": "64c11554-bf72-4677-9d8a-f8acbaa44ff7",
   "metadata": {},
   "outputs": [],
   "source": []
  }
 ],
 "metadata": {
  "kernelspec": {
   "display_name": "R",
   "language": "R",
   "name": "ir"
  },
  "language_info": {
   "codemirror_mode": "r",
   "file_extension": ".r",
   "mimetype": "text/x-r-source",
   "name": "R",
   "pygments_lexer": "r",
   "version": "4.0.4"
  }
 },
 "nbformat": 4,
 "nbformat_minor": 5
}
